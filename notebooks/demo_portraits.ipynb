{
 "cells": [
  {
   "cell_type": "markdown",
   "id": "47bbd6d1",
   "metadata": {},
   "source": [
    "# PersonaGen Demo: Portrait Generation\n",
    "\n",
    "This notebook demonstrates how to generate synthetic portraits using the PersonaGen app. \n",
    "It will use a set of example prompts and save the generated images to the notebook directory."
   ]
  },
  {
   "cell_type": "code",
   "execution_count": null,
   "id": "798b5c17",
   "metadata": {
    "scrolled": true
   },
   "outputs": [],
   "source": [
    "import sys\n",
    "from pathlib import Path\n",
    "\n",
    "# Add project root to sys.path for importing app.py\n",
    "repo_root = Path.cwd().parent\n",
    "sys.path.append(str(repo_root))\n",
    "\n",
    "from app import generate_face  # Import face generation function"
   ]
  },
  {
   "cell_type": "markdown",
   "id": "ff05913e",
   "metadata": {},
   "source": [
    "## Example Prompts\n",
    "Here are some example prompts for generating different types of portraits."
   ]
  },
  {
   "cell_type": "code",
   "execution_count": null,
   "id": "ef1d2759",
   "metadata": {},
   "outputs": [],
   "source": [
    "prompts = {\n",
    "    \"woman_blonde.png\": \"Portrait of woman with blonde hair\",\n",
    "    \"smiling_kid.png\": \"Portrait of a young boy smiling\",\n",
    "    \"small_dog.png\": \"Portrait of a yorkshire terrier\",\n",
    "    \"dragon_fantasy.png\": \"Portrait of a fantasy dragon, vibrant colors\"\n",
    "}"
   ]
  },
  {
   "cell_type": "markdown",
   "id": "23c6b923",
   "metadata": {},
   "source": [
    "## Generate and Save Portraits\n",
    " The following code will generate portraits for each prompt and save them as PNG files in the notebook directory."
   ]
  },
  {
   "cell_type": "code",
   "execution_count": null,
   "id": "c7731cc0",
   "metadata": {},
   "outputs": [],
   "source": [
    "# Change the value of output_dir to be what you prefer\n",
    "output_dir = repo_root / \"examples\"\n",
    "output_dir.mkdir(exist_ok=True, parents=True)\n",
    "for filename, prompt in prompts.items():\n",
    "    img = generate_face(prompt)\n",
    "    img.save(output_dir / filename)\n",
    "    print(f\"✅ Saved {filename}\")"
   ]
  }
 ],
 "metadata": {
  "kernelspec": {
   "display_name": "personagen",
   "language": "python",
   "name": "python3"
  },
  "language_info": {
   "codemirror_mode": {
    "name": "ipython",
    "version": 3
   },
   "file_extension": ".py",
   "mimetype": "text/x-python",
   "name": "python",
   "nbconvert_exporter": "python",
   "pygments_lexer": "ipython3",
   "version": "3.10.18"
  }
 },
 "nbformat": 4,
 "nbformat_minor": 5
}
